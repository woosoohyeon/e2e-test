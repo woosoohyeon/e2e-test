{
 "cells": [
  {
   "cell_type": "code",
   "execution_count": 1,
   "metadata": {},
   "outputs": [
    {
     "name": "stdout",
     "output_type": "stream",
     "text": [
      "\n"
     ]
    },
    {
     "name": "stderr",
     "output_type": "stream",
     "text": [
      "[WDM] - ====== WebDriver manager ======\n",
      "[WDM] - Current google-chrome version is 102.0.5005\n",
      "[WDM] - Get LATEST chromedriver version for 102.0.5005 google-chrome\n",
      "[WDM] - About to download new driver from https://chromedriver.storage.googleapis.com/102.0.5005.61/chromedriver_mac64_m1.zip\n",
      "[WDM] - Driver has been saved in cache [/Users/admin/.wdm/drivers/chromedriver/mac64_m1/102.0.5005.61]\n"
     ]
    }
   ],
   "source": [
    "from selenium import webdriver\n",
    "from selenium.webdriver.chrome.service import Service\n",
    "from webdriver_manager.chrome import ChromeDriverManager\n",
    "from selenium.webdriver.common.by import By\n",
    "from selenium.webdriver.support.ui import WebDriverWait\n",
    "from selenium.webdriver.support import expected_conditions as EC\n",
    "from selenium.webdriver.chrome.options import Options\n",
    "from bs4 import BeautifulSoup\n",
    "import time\n",
    "\n",
    "# headless 모드\n",
    "# chrome_options = Options()\n",
    "# chrome_options.add_argument(\"--headless\")\n",
    "\n",
    "# driver = webdriver.Chrome(service=Service(ChromeDriverManager().install()), options=chrome_options)\n",
    "driver = webdriver.Chrome(service=Service(ChromeDriverManager().install()))\n",
    "driver.implicitly_wait(5)\n",
    "\n",
    "driver.set_window_size(1920, 1280)\n",
    "# driver.maximize_window()\n",
    "driver.get('http://www.naver.com')"
   ]
  },
  {
   "cell_type": "markdown",
   "metadata": {},
   "source": [
    "# 각종 값 뽑아 보기"
   ]
  },
  {
   "cell_type": "code",
   "execution_count": 2,
   "metadata": {},
   "outputs": [
    {
     "name": "stdout",
     "output_type": "stream",
     "text": [
      "Session ID: 8e24d64910b54993de7c5893881e8f3f\n",
      "Title: NAVER\n",
      "URL: https://www.naver.com/\n",
      "Cookie: [{'domain': '.naver.com', 'expiry': 2524640400, 'httpOnly': False, 'name': 'NNB', 'path': '/', 'sameSite': 'None', 'secure': True, 'value': 'RZQFSDDYVWWGE'}, {'domain': 'www.naver.com', 'httpOnly': False, 'name': 'SB_MODE', 'path': '/', 'secure': False, 'value': 'plusdeal'}, {'domain': 'www.naver.com', 'expiry': 1655570166, 'httpOnly': True, 'name': 'PM_CK_loc', 'path': '/', 'secure': False, 'value': 'cb97e8e1fa111311a8bb49c14fae287f36ebb0bf99d593d41486a1dfc7342119'}]\n"
     ]
    }
   ],
   "source": [
    "# 세션 값 출력\n",
    "print('Session ID: {}'.format(driver.session_id))\n",
    "\n",
    "# 타이틀 출력\n",
    "print('Title: {}'.format(driver.title))\n",
    "\n",
    "# 세션 값 출력\n",
    "print('URL: {}'.format(driver.current_url))\n",
    "\n",
    "# 쿠키 정보 출력\n",
    "print('Cookie: {}'.format(driver.get_cookies()))"
   ]
  },
  {
   "cell_type": "markdown",
   "metadata": {},
   "source": [
    "## 검색하기"
   ]
  },
  {
   "cell_type": "code",
   "execution_count": 3,
   "metadata": {},
   "outputs": [
    {
     "name": "stderr",
     "output_type": "stream",
     "text": [
      "/var/folders/2y/gnlds57j68g6j30gt5r2xds40000gn/T/ipykernel_18859/4135196317.py:1: DeprecationWarning: find_element_by_css_selector is deprecated. Please use find_element(by=By.CSS_SELECTOR, value=css_selector) instead\n",
      "  input_search = driver.find_element_by_css_selector('#query')\n"
     ]
    }
   ],
   "source": [
    "input_search = driver.find_element_by_css_selector('#query')\n",
    "input_search.send_keys('방탄소년단')\n",
    "input_search.submit()"
   ]
  },
  {
   "cell_type": "markdown",
   "metadata": {},
   "source": [
    "## 스크린샷"
   ]
  },
  {
   "cell_type": "code",
   "execution_count": 50,
   "metadata": {},
   "outputs": [],
   "source": [
    "driver.save_screenshot('./screenshot/' + str(time.time()) + '.png')\n",
    "\n",
    "driver.quit()"
   ]
  },
  {
   "cell_type": "markdown",
   "metadata": {},
   "source": [
    "# 다나와 크롤링"
   ]
  },
  {
   "cell_type": "code",
   "execution_count": 4,
   "metadata": {},
   "outputs": [
    {
     "name": "stdout",
     "output_type": "stream",
     "text": [
      "#### current page: 1 #####\n",
      "레노버 아이디어패드 Slim3-15ITL 5D WIN10 16GB램\n",
      "ASUS TUF Gaming A15 FA507RM-R6725\n",
      "MSI GF시리즈 Sword GF66 A12UGS 블랙\n",
      "ASUS 비보북 프로 15 K3500PA-11525D\n",
      "LG전자 2022 그램17 17ZD95P-GX76K\n",
      "LG전자 2021 그램16 16ZD90P-GX56K WIN10\n",
      "레노버 LEGION 5i Pro 16ITH I7 STORM 3060\n",
      "삼성전자 갤럭시북 NT750XDZ-AM58S\n",
      "레노버 요가 Slim7 Carbon 14ACN6 82L0004XKR\n",
      "MSI GP시리즈 GP76 Leopard 11UG\n",
      "MSI 모던시리즈 모던14 B5M-R5\n",
      "레노버 요가 Slim7 Carbon 14ACN6 82L0004YKR\n",
      "한성컴퓨터 올데이롱 TFX5556U\n",
      "APPLE 2020 맥북에어 MGN93KH/A\n",
      "LG전자 2022 울트라PC 15UD40Q-GX30K\n",
      "LG전자 2022 울트라PC 15UD40Q-GX30K WIN10\n",
      "ASUS TUF Gaming A17 FA707RM-HX016\n",
      "LG전자 2022 그램16(12세대) 16ZD90Q-EX76K\n",
      "삼성전자 갤럭시북2 프로 NT950XEV-G51A WIN11\n",
      "에이서 니트로 5 AN515-58-71Z5\n",
      "LG전자 2022 그램16(12세대) 16ZD90Q-EX56K\n",
      "레노버 V15 G2 82KD000UKR 8GB램\n",
      "ASUS ROG 제피러스 G15 GA503RM-HQ049\n",
      "삼성전자 갤럭시북2 프로 NT950XEE-X71AR\n",
      "LG전자 2022 그램17 17Z95P-GA76K\n",
      "LG전자 2022 그램16 16ZD95P-GX56K\n",
      "ASUS ROG STRIX G17 G713RW-LL150\n",
      "LG전자 2022 울트라PC 15UD40Q-GX50K\n",
      "레노버 LEGION 5 Pro 16ACH R7 STORM\n",
      "LG전자 2022 울트라PC 13UD70Q-GX30K\n",
      "#### current page: 2 #####\n",
      "한성컴퓨터 올데이롱 TFX5556U\n",
      "한성컴퓨터 TFG5576XG\n",
      "한성컴퓨터 TFG5277XG\n",
      "한성컴퓨터 TFX5560U 세잔북\n",
      "한성컴퓨터 TFG7276LC\n",
      "한성컴퓨터 TFG5276XG\n",
      "한성컴퓨터 TFG7277LC\n",
      "한성컴퓨터 올데이롱 TFX5556UW\n",
      "한성컴퓨터 TFX3412N\n",
      "한성컴퓨터 TFG5176XG 리퀴드\n",
      "한성컴퓨터 TFG7277XG\n",
      "한성컴퓨터 언더케이지 TFX4470H\n",
      "한성컴퓨터 TFG5275\n",
      "한성컴퓨터 TFX3150U Pro\n",
      "한성컴퓨터 TFX5550UC\n",
      "한성컴퓨터 TFX5470UC\n",
      "한성컴퓨터 TFG7576XG\n",
      "한성컴퓨터 TFG7277LCW\n",
      "한성컴퓨터 언더케이지 TFX4450H\n",
      "한성컴퓨터 TFG7597XG\n",
      "한성컴퓨터 TFG7275T\n",
      "한성컴퓨터 TFX4150H\n",
      "한성컴퓨터 TFG7275TW\n",
      "한성컴퓨터 TFG5597XG\n",
      "한성컴퓨터 TFG5175T\n",
      "한성컴퓨터 TFX3412NW\n",
      "한성컴퓨터 TFG7276LCW\n",
      "한성컴퓨터 TFG7277XGW\n",
      "한성컴퓨터 TFX3150UW Pro\n",
      "한성컴퓨터 TFX5135U 11Gen\n",
      "#### current page: 3 #####\n",
      "한성컴퓨터 TFG7276XGW\n",
      "한성컴퓨터 TFG5275T\n",
      "한성컴퓨터 TFX4150HW W11\n",
      "한성컴퓨터 TFG7275\n",
      "한성컴퓨터 TFG5277XGW\n",
      "한성컴퓨터 언더케이지 TFX4470HW W11\n",
      "한성컴퓨터 TFG7175T\n",
      "한성컴퓨터 TFG7597XGW W11\n",
      "한성컴퓨터 TFG5576XGW W11\n",
      "한성컴퓨터 TFX5560UW 세잔북\n",
      "한성컴퓨터 언더케이지 TFX4450HW W11\n",
      "한성컴퓨터 TFG7276XG\n",
      "한성컴퓨터 TFG7576XGW W11\n",
      "한성컴퓨터 TFG5276XGW\n",
      "한성컴퓨터 TFG7175\n",
      "한성컴퓨터 TFG5275TW\n",
      "한성컴퓨터 TFG5597XGW W11\n",
      "한성컴퓨터 TFG5175TW W11\n",
      "한성컴퓨터 TFG5275W\n",
      "한성컴퓨터 TFG7275W\n",
      "한성컴퓨터 TFX5470UCW W11\n",
      "한성컴퓨터 TFG7175TW W11\n",
      "한성컴퓨터 TFG7576XGW\n",
      "한성컴퓨터 TFX5550UCW W11\n",
      "한성컴퓨터 올데이롱 TFX5470H\n",
      "한성컴퓨터 TFG5176XGW 리퀴드 W11\n",
      "한성컴퓨터 TFX5135UW 11Gen W11\n",
      "한성컴퓨터 TFX4150HW\n",
      "한성컴퓨터 TFX5135UW 11Gen\n",
      "한성컴퓨터 TFG7175W\n",
      "#### current page: 4 #####\n",
      "한성컴퓨터 TFX7130H\n",
      "한성컴퓨터 TFX5550UCW\n",
      "한성컴퓨터 TFG7176XS 리퀴드\n",
      "한성컴퓨터 TFG5576XGW\n",
      "한성컴퓨터 언더케이지 TFX4470HW\n",
      "한성컴퓨터 TFG7597XGW\n",
      "한성컴퓨터 언더케이지 TFX4450HW\n",
      "한성컴퓨터 TFG5175TW\n",
      "한성컴퓨터 TFG5176XGW 리퀴드\n",
      "한성컴퓨터 TFG5597XGW\n",
      "한성컴퓨터 올데이롱 TFX5450H\n",
      "한성컴퓨터 TFX5470UCW\n",
      "한성컴퓨터 TFG7175TW\n",
      "한성컴퓨터 TFX5075G 아방가르드\n",
      "한성컴퓨터 TFG7175W W11\n",
      "한성컴퓨터 TFG7176XSW 리퀴드\n",
      "한성컴퓨터 TFG5175W\n",
      "한성컴퓨터 BossMonster EX7089SW\n",
      "한성컴퓨터 TFG7577XG\n",
      "한성컴퓨터 TFG5076XG\n",
      "한성컴퓨터 올데이롱 TFX255SW\n",
      "한성컴퓨터 H50 DGA2W\n",
      "한성컴퓨터 TFG7476HS\n",
      "한성컴퓨터 TFX5450UC\n",
      "한성컴퓨터 TFG7176XSW 리퀴드 W11\n",
      "한성컴퓨터 TFG5175\n",
      "한성컴퓨터 BossMonster RX5067W\n",
      "한성컴퓨터 TFG7476HSW\n",
      "한성컴퓨터 H50 DGA5\n",
      "한성컴퓨터 BossMonster X5067TW\n",
      "#### current page: 5 #####\n",
      "한성컴퓨터 H50 DGA7W\n",
      "한성컴퓨터 TFX7130HW\n",
      "한성컴퓨터 TFG5577XG\n",
      "한성컴퓨터 H50 DGA3W\n",
      "한성컴퓨터 BossMonster EX7089S\n",
      "한성컴퓨터 TFG277SW\n",
      "한성컴퓨터 H5053 DGA7W\n",
      "한성컴퓨터 H50 DGA3\n",
      "한성컴퓨터 H5053 DGA2W\n",
      "한성컴퓨터 H50 DGA7\n",
      "한성컴퓨터 TFX255GSWP 아방가르드\n",
      "한성컴퓨터 TFG7076XSW\n",
      "한성컴퓨터 TFG5476HSW\n",
      "한성컴퓨터 TFG2569T\n",
      "한성컴퓨터 TFX5450UCW\n",
      "한성컴퓨터 BossMonster EX7079S\n",
      "한성컴퓨터 TFG2569TW\n",
      "한성컴퓨터 TFG266\n",
      "한성컴퓨터 BossMonster EX7977KW\n",
      "한성컴퓨터 BossMonster EX7987K\n",
      "한성컴퓨터 TFG7577XGW\n",
      "한성컴퓨터 올데이롱 TFX5470HW\n",
      "한성컴퓨터 BossMonster EH6967T\n",
      "한성컴퓨터 TFG277GS 아방가르드\n",
      "한성컴퓨터 BossMonster X5067T\n",
      "한성컴퓨터 H5053 DGA7\n",
      "한성컴퓨터 H5053 DGA5\n",
      "한성컴퓨터 BossMonster EX7079SW\n",
      "한성컴퓨터 TFG276RTW\n",
      "한성컴퓨터 TFX7130HW W11\n"
     ]
    }
   ],
   "source": [
    "driver.get('http://prod.danawa.com/list/?cate=112758&15main_11_02')\n",
    "# 모든 요소들이 렌더링 될 때까지 3초간 브라우저 기다리기 3초 전에 나타나면 클릭\n",
    "# 제조사 클릭\n",
    "WebDriverWait(driver, 3).until(EC.presence_of_element_located((By.XPATH, '//*[@id=\"dlMaker_simple\"]/dd/div[2]/button[1]'))).click()\n",
    "WebDriverWait(driver, 2).until(EC.presence_of_element_located((By.XPATH, '//*[@id=\"selectMaker_simple_priceCompare_A\"]/li[14]/label'))).click()\n",
    "\n",
    "# Pagination 처리\n",
    "# 현재 페이지\n",
    "cur_page = 1\n",
    "\n",
    "# 크롤링 할 페이지 수\n",
    "target_crawl_num = 5\n",
    "\n",
    "while cur_page <= target_crawl_num:\n",
    "    bs = BeautifulSoup(driver.page_source, 'html.parser')\n",
    "    # 소스 이쁘게 보기\n",
    "    # print(bs.prettify())\n",
    "    # 메인 상품 리스트 선택\n",
    "    product_list = bs.select('#productListArea > div.main_prodlist.main_prodlist_list > ul > li')\n",
    "\n",
    "    print('#### current page: {} #####'. format(cur_page))\n",
    "    driver.save_screenshot('./screenshot/target_page{}.png'.format(cur_page))\n",
    "\n",
    "    # 광고 제외한 목록 추출\n",
    "    for product in product_list:\n",
    "        if 'prod_ad_item' in product['class'] or 'product-pot' in product['class']:\n",
    "            continue\n",
    "        print(product.select('div.prod_info > p > a')[0].text.strip())\n",
    "    \n",
    "    # 페이지 이동\n",
    "    cur_page += 1\n",
    "    if cur_page > target_crawl_num: break\n",
    "    driver.find_element(By.CSS_SELECTOR, '#productListArea > div.prod_num_nav a:nth-child({})'.format(cur_page)).click()\n",
    "    WebDriverWait(driver, 3).until(EC.presence_of_all_elements_located((By.CSS_SELECTOR, '.prod_item.prod_layer')))"
   ]
  },
  {
   "cell_type": "code",
   "execution_count": null,
   "metadata": {},
   "outputs": [],
   "source": []
  }
 ],
 "metadata": {
  "kernelspec": {
   "display_name": "Python 3.8.9 64-bit",
   "language": "python",
   "name": "python3"
  },
  "language_info": {
   "codemirror_mode": {
    "name": "ipython",
    "version": 3
   },
   "file_extension": ".py",
   "mimetype": "text/x-python",
   "name": "python",
   "nbconvert_exporter": "python",
   "pygments_lexer": "ipython3",
   "version": "3.8.9"
  },
  "orig_nbformat": 4,
  "vscode": {
   "interpreter": {
    "hash": "31f2aee4e71d21fbe5cf8b01ff0e069b9275f58929596ceb00d14d90e3e16cd6"
   }
  }
 },
 "nbformat": 4,
 "nbformat_minor": 2
}
